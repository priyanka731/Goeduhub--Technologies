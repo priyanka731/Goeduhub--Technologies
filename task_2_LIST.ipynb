{
  "nbformat": 4,
  "nbformat_minor": 0,
  "metadata": {
    "colab": {
      "name": "task 2 LIST",
      "provenance": []
    },
    "kernelspec": {
      "name": "python3",
      "display_name": "Python 3"
    },
    "language_info": {
      "name": "python"
    }
  },
  "cells": [
    {
      "cell_type": "code",
      "metadata": {
        "id": "cw2G9gXPxUVI",
        "colab": {
          "base_uri": "https://localhost:8080/"
        },
        "outputId": "930ef3c5-217b-468b-cddf-77c6cba58f94"
      },
      "source": [
        "l = [\"Hello\", 2, 15, \"World\", 34]\n",
        "\n",
        "number_of_elements = len(l)\n",
        "\n",
        "print(\"Number of elements in the list: \", number_of_elements)"
      ],
      "execution_count": null,
      "outputs": [
        {
          "output_type": "stream",
          "text": [
            "Number of elements in the list:  5\n"
          ],
          "name": "stdout"
        }
      ]
    },
    {
      "cell_type": "code",
      "metadata": {
        "colab": {
          "base_uri": "https://localhost:8080/"
        },
        "id": "3jbbaa-91fVd",
        "outputId": "48370275-e220-4341-e21a-29a70473cbce"
      },
      "source": [
        "if len(l) == 0:\n",
        "\tprint('List is empty')\n",
        "else:\n",
        "\tprint('List not empty')"
      ],
      "execution_count": null,
      "outputs": [
        {
          "output_type": "stream",
          "text": [
            "List not empty\n"
          ],
          "name": "stdout"
        }
      ]
    },
    {
      "cell_type": "code",
      "metadata": {
        "colab": {
          "base_uri": "https://localhost:8080/"
        },
        "id": "6X3tL9DA1xeN",
        "outputId": "fb1c8343-0237-4136-f414-67a5583861fa"
      },
      "source": [
        "l = [\"Hello\", 2, 15, \"World\", 34]\n",
        "print(l)\n",
        "print(\"The first element of the list : \",l[0])\n",
        "print(\"The last element of the list : \",l[-1])"
      ],
      "execution_count": null,
      "outputs": [
        {
          "output_type": "stream",
          "text": [
            "['Hello', 2, 15, 'World', 34]\n",
            "The first element of the list :  Hello\n",
            "The last element of the list :  34\n"
          ],
          "name": "stdout"
        }
      ]
    },
    {
      "cell_type": "code",
      "metadata": {
        "colab": {
          "base_uri": "https://localhost:8080/"
        },
        "id": "R610rVy03AAc",
        "outputId": "bc8061f3-19f6-4586-a052-05ed19c1dd6e"
      },
      "source": [
        "list1 = [11, 5, 17, 18, 23] \n",
        "del list1[1:5]\n",
        "print(list1)\n"
      ],
      "execution_count": null,
      "outputs": [
        {
          "output_type": "stream",
          "text": [
            "[11]\n"
          ],
          "name": "stdout"
        }
      ]
    },
    {
      "cell_type": "code",
      "metadata": {
        "colab": {
          "base_uri": "https://localhost:8080/"
        },
        "id": "J7uysBHk3dAJ",
        "outputId": "cb1d6682-7f9d-4c54-e527-cb99cd092436"
      },
      "source": [
        "list1 = [11, 5, 9,12,15,17, 18, 23,50] \n",
        "print (list1[1:7:2])"
      ],
      "execution_count": null,
      "outputs": [
        {
          "output_type": "stream",
          "text": [
            "[5, 12, 17]\n"
          ],
          "name": "stdout"
        }
      ]
    },
    {
      "cell_type": "code",
      "metadata": {
        "colab": {
          "base_uri": "https://localhost:8080/"
        },
        "id": "kKUlNFZV_K4h",
        "outputId": "e78cad2e-e2f9-41b2-e55f-465763110459"
      },
      "source": [
        "nested_list=[[5,8.9],[6,2,3],[12,15,18]]\n",
        "for i in nested_list:\n",
        "  print(i[0],end=\" \") \n",
        "  "
      ],
      "execution_count": null,
      "outputs": [
        {
          "output_type": "stream",
          "text": [
            "5 6 12 "
          ],
          "name": "stdout"
        }
      ]
    },
    {
      "cell_type": "code",
      "metadata": {
        "colab": {
          "base_uri": "https://localhost:8080/"
        },
        "id": "bDNNVjFsBb3f",
        "outputId": "403601d0-a197-4ccd-9254-83829d762726"
      },
      "source": [
        "test_list1 = [1, 4, 5, 6, 5]\n",
        "test_list2 = [3, 5, 7, 2, 5]\n",
        "res_list = [*test_list1, *test_list2]\n",
        "print (\"Concatenated list using * operator : \" \n",
        "                              + str(res_list))"
      ],
      "execution_count": null,
      "outputs": [
        {
          "output_type": "stream",
          "text": [
            "Concatenated list using * operator : [1, 4, 5, 6, 5, 3, 5, 7, 2, 5]\n"
          ],
          "name": "stdout"
        }
      ]
    },
    {
      "cell_type": "code",
      "metadata": {
        "colab": {
          "base_uri": "https://localhost:8080/"
        },
        "id": "ib1oTRhgEJB2",
        "outputId": "c430bfb8-987f-49a9-80ee-c838f9ba5081"
      },
      "source": [
        "lt1 = [4, 4, 6, 8, 10, 30]  \n",
        "lt2 = [2, 5, 6, 9, 10, 12]   \n",
        "print ( \"list 1 : \" + str (lt1))  \n",
        "print ( \"list 2 : \" + str (lt2))    \n",
        "res_lt = [ lt1[x] + lt2[x] for x in range (len (lt1))]  \n",
        "print ( \"Addition of the list lt1 and lt2 is: \"+ str (res_lt))      "
      ],
      "execution_count": null,
      "outputs": [
        {
          "output_type": "stream",
          "text": [
            "list 1 : [4, 4, 6, 8, 10, 30]\n",
            "list 2 : [2, 5, 6, 9, 10, 12]\n",
            "Addition of the list lt1 and lt2 is: [6, 9, 12, 17, 20, 42]\n"
          ],
          "name": "stdout"
        }
      ]
    },
    {
      "cell_type": "code",
      "metadata": {
        "id": "8UWA2A76FmxP"
      },
      "source": [
        ""
      ],
      "execution_count": null,
      "outputs": []
    }
  ]
}