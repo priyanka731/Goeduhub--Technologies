{
  "nbformat": 4,
  "nbformat_minor": 0,
  "metadata": {
    "colab": {
      "name": "task 3 dictionary",
      "provenance": []
    },
    "kernelspec": {
      "name": "python3",
      "display_name": "Python 3"
    },
    "language_info": {
      "name": "python"
    }
  },
  "cells": [
    {
      "cell_type": "markdown",
      "metadata": {
        "id": "_Vo3dMlrmaaA"
      },
      "source": [
        "Q.1 Write a Python Program to sort (ascending and descending) a dictionary by value.\n",
        "\n",
        "\n",
        "\n"
      ]
    },
    {
      "cell_type": "code",
      "metadata": {
        "colab": {
          "base_uri": "https://localhost:8080/"
        },
        "id": "glAlNBOWmtb7",
        "outputId": "69cc62e8-a90f-4d35-afc0-e3fd43f85262"
      },
      "source": [
        "import operator\n",
        "d = {1: 2, 3: 4, 4: 3, 2: 1, 5: 6}\n",
        "print('dictionary:',d)\n",
        "sorted_d = sorted(d.items(), key=operator.itemgetter(1))\n",
        "print('Dictionary in ascending order by value : ',sorted_d)\n",
        "sorted_d = dict( sorted(d.items(), key=operator.itemgetter(1),reverse=True))\n",
        "print('Dictionary in descending order by value : ',sorted_d)"
      ],
      "execution_count": null,
      "outputs": [
        {
          "output_type": "stream",
          "text": [
            "dictionary: {1: 2, 3: 4, 4: 3, 2: 1, 5: 6}\n",
            "Dictionary in ascending order by value :  [(2, 1), (1, 2), (4, 3), (3, 4), (5, 6)]\n",
            "Dictionary in descending order by value :  {5: 6, 3: 4, 4: 3, 1: 2, 2: 1}\n"
          ],
          "name": "stdout"
        }
      ]
    },
    {
      "cell_type": "markdown",
      "metadata": {
        "id": "Rc0voqxxrBfa"
      },
      "source": [
        "Q.2 Write a Python Program to add a key to a dictionary. \n",
        "\n"
      ]
    },
    {
      "cell_type": "code",
      "metadata": {
        "colab": {
          "base_uri": "https://localhost:8080/"
        },
        "id": "sJv1q6oHmtWS",
        "outputId": "fc844af7-13f3-40d1-a40e-4bda2e7f0353"
      },
      "source": [
        "'''Sample Dictionary : {0: 10, 1: 20}\n",
        "Expected Result : {0: 10, 1: 20, 2: 30}'''\n",
        "\n",
        "d = {0:10, 1:20}\n",
        "print(d)\n",
        "d.update({2:30})\n",
        "print(d)"
      ],
      "execution_count": null,
      "outputs": [
        {
          "output_type": "stream",
          "text": [
            "{0: 5, 1: 10}\n",
            "{0: 5, 1: 10, 2: 30}\n"
          ],
          "name": "stdout"
        }
      ]
    },
    {
      "cell_type": "markdown",
      "metadata": {
        "id": "9T58eCz7s9m1"
      },
      "source": [
        "Q.3 Write a  program asks for City name and Temperature and builds a dictionary using that Later on you can input City name and it will tell you the Temperature of that City.\n",
        "\n",
        "\n",
        "\n"
      ]
    },
    {
      "cell_type": "code",
      "metadata": {
        "colab": {
          "base_uri": "https://localhost:8080/"
        },
        "id": "5afk6CpamtTW",
        "outputId": "90ce201c-8044-4289-b19d-3211544d21d7"
      },
      "source": [
        "d={}\n",
        "n=int(input(\"enter size: \"))\n",
        "for i in range(n):\n",
        "  data = input().split(' ')\n",
        "  d[data[0]] = data[1]\n",
        "print(d)\n",
        "\n",
        "s=input(\"enter city: \")\n",
        "print(\"Temp of {} is {}\".format(s,d.get(s)))"
      ],
      "execution_count": null,
      "outputs": [
        {
          "output_type": "stream",
          "text": [
            "enter size: 2\n",
            "lko 32\n",
            "delhi 38\n",
            "{'lko': '32', 'delhi': '38'}\n",
            "enter city: lko\n",
            "Temp of lko is 32\n"
          ],
          "name": "stdout"
        }
      ]
    },
    {
      "cell_type": "markdown",
      "metadata": {
        "id": "oXJTUmP8DAJw"
      },
      "source": [
        "Q. 4 Write a Python program to convert list to list of dictionaries.\n",
        "\n",
        "Sample lists: [\"Black\", \"Red\", \"Maroon\", \"Yellow\"], [\"#000000\", \"#FF0000\", \"#800000\", \"#FFFF00\"]\n"
      ]
    },
    {
      "cell_type": "code",
      "metadata": {
        "colab": {
          "base_uri": "https://localhost:8080/"
        },
        "id": "ucRQ9gvDmtRE",
        "outputId": "da57db9a-2151-4fde-f5f2-3d99698d24e1"
      },
      "source": [
        "'''Expected Output: [{'color_name': 'Black', 'color_code': '#000000'}, {'color_name': 'Red', 'color_code': '#FF0000'}, {'color_name': 'Maroon', 'color_code': '#800000'}, {'color_name': 'Yellow', 'color_code': '#FFFF00'}]'''\n",
        "color_name=[\"Black\", \"Red\", \"Maroon\", \"Yellow\"]\n",
        "color_code=[\"#000000\", \"#FF0000\", \"#800000\", \"#FFFF00\"]\n",
        "color_list=[dict(color_name=a,color_code=b) for (a,b) in zip(color_name,color_code)]\n",
        "print(color_list)"
      ],
      "execution_count": null,
      "outputs": [
        {
          "output_type": "stream",
          "text": [
            "[{'color_name': 'Black', 'color_code': '#000000'}, {'color_name': 'Red', 'color_code': '#FF0000'}, {'color_name': 'Maroon', 'color_code': '#800000'}, {'color_name': 'Yellow', 'color_code': '#FFFF00'}]\n"
          ],
          "name": "stdout"
        }
      ]
    },
    {
      "cell_type": "markdown",
      "metadata": {
        "id": "6O91H8HAK9Bp"
      },
      "source": [
        "Q. 5 We have following information on Employees and their Salary (Salary is in lakhs),\n",
        "\n",
        "Employee\tSalary\n",
        "John    \t14\n",
        "Smith   \t13\n",
        "Alice   \t32\n",
        "Daneil\t  21\n",
        "\n",
        "1.Using above create a dictionary of Employees and their Salary\n",
        "\n",
        "2.Write a program that asks user for three type of inputs,\n",
        "print: if user enter print then it should print all Employees with their Salary in this format,\n",
        "\n",
        "John ==>14\n",
        "\n",
        "Smith ==>13\n",
        "\n",
        "Alice ==>32\n",
        "\n",
        " Daneil ==>21\n",
        "\n",
        "\n",
        " a.print then it should print all Employees with their Salary in this format,\n",
        "\n",
        "b.add: if user input adds then it should further ask for an Employee name to add. If Employee already exists in our dataset then it should print that it exists and do nothing. If it doesn't then it asks for Salary and add that new Employee/Salary in our dictionary and print it.\n",
        "\n",
        "c.remove: when user inputs remove it should ask for an Employee to remove. If an Employee exists in our dictionary then remove it and print a new dictionary using format shown above in (a). Else print that Employee doesn't exist!\n",
        "\n",
        "d.query: on this again ask the user for which Employee he or she wants to query. When a user inputs that Employee it will print the Salary of that Employee.\n"
      ]
    },
    {
      "cell_type": "code",
      "metadata": {
        "id": "j7UY3ARmmtOB",
        "colab": {
          "base_uri": "https://localhost:8080/"
        },
        "outputId": "6146d2b7-37b8-4682-ed84-56804ac42466"
      },
      "source": [
        "d={}\n",
        "n=int(input(\"enter size:\"))\n",
        "for i in range(n):\n",
        "  data = input().split(' ')\n",
        "  d[data[0]] = int(data[1])\n",
        "\n",
        "for i in range(4):\n",
        "  ask=input(\"Enter operatons :\").lower()\n",
        "  if ask=='add':\n",
        "    data =input().split(' ')\n",
        "    if data[0] in d:\n",
        "      print(\"employee exits.\")\n",
        "    else:\n",
        "      d[data[0]]= data[1]\n",
        "      print(d)\n",
        "  elif ask=='remove':\n",
        "    data=input().split(' ')\n",
        "    if d[data[0]] in d:\n",
        "      d.remove(data)\n",
        "    else:\n",
        "      print(\"employee does not exits.\")\n",
        "\n",
        "  elif ask=='query':\n",
        "    data=input(\"enter employee name :\")\n",
        "    print(\"salary of{} is{}\".format(data,d.get(data)))\n",
        "\n",
        "  elif ask=='print':\n",
        "    print(d)"
      ],
      "execution_count": null,
      "outputs": [
        {
          "output_type": "stream",
          "text": [
            "enter size:4\n",
            "john 14\n",
            "smith 13\n",
            "aliece 13\n",
            "daneil 21\n",
            "Enter operatons :add\n",
            "john\n",
            "employee exits.\n",
            "Enter operatons :remove\n",
            "john\n",
            "employee does not exits.\n",
            "Enter operatons :query\n",
            "enter employee name :john\n",
            "salary ofjohn is14\n",
            "Enter operatons :add\n",
            "daneil\n",
            "employee exits.\n"
          ],
          "name": "stdout"
        }
      ]
    },
    {
      "cell_type": "markdown",
      "metadata": {
        "id": "LMunIiVAX8zM"
      },
      "source": [
        "Questions on Sets-\n",
        "\n",
        " Q.1 What is the difference between a set and a frozenset? Create any set and try to use frozenset(setname)."
      ]
    },
    {
      "cell_type": "markdown",
      "metadata": {
        "id": "D_7GmoH_YFQF"
      },
      "source": [
        "Frozenset is a immutable version of python object whereas an element of set can be modified at any time that's why frozen set is used as dictionary of another set."
      ]
    },
    {
      "cell_type": "code",
      "metadata": {
        "id": "z7YeCeGwmtLV",
        "colab": {
          "base_uri": "https://localhost:8080/"
        },
        "outputId": "fd3c6636-43b3-499b-8ca9-886448eea30d"
      },
      "source": [
        "# random dictionary\n",
        "person = {\"name\": \"John\", \"age\": 23, \"sex\": \"male\"}\n",
        "\n",
        "fSet = frozenset(person)\n",
        "print('The frozen set is:', fSet)"
      ],
      "execution_count": null,
      "outputs": [
        {
          "output_type": "stream",
          "text": [
            "The frozen set is: frozenset({'name', 'age', 'sex'})\n"
          ],
          "name": "stdout"
        }
      ]
    },
    {
      "cell_type": "markdown",
      "metadata": {
        "id": "ITCMVH3jZP4O"
      },
      "source": [
        "Q.2 Find the elements in a given set that are not in another set\n",
        "\n",
        "    set1 = {10,20,30,40,50}\n",
        "\n",
        "    set2 = {40,50,60,70,80}\n",
        "\n",
        " Difference between set1 and set2 is {10,20,30}"
      ]
    },
    {
      "cell_type": "code",
      "metadata": {
        "id": "076IgjmWmszT",
        "colab": {
          "base_uri": "https://localhost:8080/"
        },
        "outputId": "a191598c-10af-4c32-c0f2-5c9db4b12596"
      },
      "source": [
        "set1= set(map(int,input().split()))\n",
        "set2= set(map(int,input().split()))\n",
        "print(set1.difference(set2))\n"
      ],
      "execution_count": null,
      "outputs": [
        {
          "output_type": "stream",
          "text": [
            "10 20 30 40 50\n",
            "40 50 60 70 80\n",
            "{10, 20, 30}\n"
          ],
          "name": "stdout"
        }
      ]
    },
    {
      "cell_type": "code",
      "metadata": {
        "id": "-eThZ9b_Zu_j"
      },
      "source": [
        ""
      ],
      "execution_count": null,
      "outputs": []
    }
  ]
}