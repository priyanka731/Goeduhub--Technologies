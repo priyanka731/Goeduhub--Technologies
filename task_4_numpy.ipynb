{
  "nbformat": 4,
  "nbformat_minor": 0,
  "metadata": {
    "colab": {
      "name": "task 4 numpy",
      "provenance": []
    },
    "kernelspec": {
      "name": "python3",
      "display_name": "Python 3"
    },
    "language_info": {
      "name": "python"
    }
  },
  "cells": [
    {
      "cell_type": "markdown",
      "metadata": {
        "id": "QjiFs_cTvS1C"
      },
      "source": [
        "# 1.Import the numpy package under the name np and Print the numpy version and the configuration .\n",
        "\n",
        "\n"
      ]
    },
    {
      "cell_type": "code",
      "metadata": {
        "colab": {
          "base_uri": "https://localhost:8080/"
        },
        "id": "hHBiYVcGqkU_",
        "outputId": "9244c34a-fe37-4dcc-a085-b42fb043133e"
      },
      "source": [
        "import numpy as np\n",
        "print(np.__version__)#  it gives numpy version.\n",
        "np.show_config() # it gives numpy configuration.\n"
      ],
      "execution_count": null,
      "outputs": [
        {
          "output_type": "stream",
          "text": [
            "1.19.5\n",
            "blas_mkl_info:\n",
            "  NOT AVAILABLE\n",
            "blis_info:\n",
            "  NOT AVAILABLE\n",
            "openblas_info:\n",
            "    libraries = ['openblas', 'openblas']\n",
            "    library_dirs = ['/usr/local/lib']\n",
            "    language = c\n",
            "    define_macros = [('HAVE_CBLAS', None)]\n",
            "blas_opt_info:\n",
            "    libraries = ['openblas', 'openblas']\n",
            "    library_dirs = ['/usr/local/lib']\n",
            "    language = c\n",
            "    define_macros = [('HAVE_CBLAS', None)]\n",
            "lapack_mkl_info:\n",
            "  NOT AVAILABLE\n",
            "openblas_lapack_info:\n",
            "    libraries = ['openblas', 'openblas']\n",
            "    library_dirs = ['/usr/local/lib']\n",
            "    language = c\n",
            "    define_macros = [('HAVE_CBLAS', None)]\n",
            "lapack_opt_info:\n",
            "    libraries = ['openblas', 'openblas']\n",
            "    library_dirs = ['/usr/local/lib']\n",
            "    language = c\n",
            "    define_macros = [('HAVE_CBLAS', None)]\n"
          ],
          "name": "stdout"
        }
      ]
    },
    {
      "cell_type": "markdown",
      "metadata": {
        "id": "3PVdY2M5UMh-"
      },
      "source": [
        "# 2. Create a null vector of size 10\n",
        "\n",
        "\n",
        "\n",
        "\n"
      ]
    },
    {
      "cell_type": "code",
      "metadata": {
        "id": "FvLDNl_W8aYz",
        "colab": {
          "base_uri": "https://localhost:8080/"
        },
        "outputId": "5d090be0-0abc-4d30-f9f4-24b26f4e71e3"
      },
      "source": [
        "import numpy as np\n",
        "x = np.zeros(10)\n",
        "print(x)\n"
      ],
      "execution_count": null,
      "outputs": [
        {
          "output_type": "stream",
          "text": [
            "[0. 0. 0. 0. 0. 0. 0. 0. 0. 0.]\n"
          ],
          "name": "stdout"
        }
      ]
    },
    {
      "cell_type": "markdown",
      "metadata": {
        "id": "lwni3lBZUgu1"
      },
      "source": [
        "\n",
        "#3. How to find number of dimensions, bytes per element and bytes of memory used?\n"
      ]
    },
    {
      "cell_type": "code",
      "metadata": {
        "colab": {
          "base_uri": "https://localhost:8080/"
        },
        "id": "zPFHnTqpUrLs",
        "outputId": "15dbae8c-522e-44f5-a483-dce918c27595"
      },
      "source": [
        "a=np.array([1,3,5,7.9])\n",
        "print(a)\n",
        "print(type(a))\n",
        "print(a.dtype)"
      ],
      "execution_count": null,
      "outputs": [
        {
          "output_type": "stream",
          "text": [
            "[1.  3.  5.  7.9]\n",
            "<class 'numpy.ndarray'>\n",
            "float64\n"
          ],
          "name": "stdout"
        }
      ]
    },
    {
      "cell_type": "markdown",
      "metadata": {
        "id": "WCt_MiVqVRMu"
      },
      "source": [
        "# 4.How to find number of dimensions, bytes per element and bytes of memory used?\n",
        "\n",
        "\n",
        "\n",
        "\n",
        "\n",
        "\n",
        "\n"
      ]
    },
    {
      "cell_type": "code",
      "metadata": {
        "colab": {
          "base_uri": "https://localhost:8080/"
        },
        "id": "q-HJ7PS0Uq9H",
        "outputId": "85732010-f197-4997-f5ae-156b3ccde1d0"
      },
      "source": [
        "x=np.array([1,3,5,7.9])\n",
        "print(x)\n",
        "print(x.ndim) # dimension \n",
        "print(x.itemsize)# bytes per element\n",
        "print(x.size * x.itemsize)# bytes of memory used"
      ],
      "execution_count": null,
      "outputs": [
        {
          "output_type": "stream",
          "text": [
            "[1.  3.  5.  7.9]\n",
            "1\n",
            "8\n",
            "32\n"
          ],
          "name": "stdout"
        }
      ]
    },
    {
      "cell_type": "markdown",
      "metadata": {
        "id": "nlCIYWm8YZws"
      },
      "source": [
        "# 5.create a null vector of size 10 but the fifth value which is 1\n",
        "\n",
        "\n",
        "\n"
      ]
    },
    {
      "cell_type": "code",
      "metadata": {
        "id": "LoarM4iuWSPK",
        "colab": {
          "base_uri": "https://localhost:8080/"
        },
        "outputId": "41653e92-1ec3-4305-99eb-9166d5e750bb"
      },
      "source": [
        "import numpy as np\n",
        "x = np.zeros(10)\n",
        "x[4]=1\n",
        "print(x)"
      ],
      "execution_count": null,
      "outputs": [
        {
          "output_type": "stream",
          "text": [
            "[0. 0. 0. 0. 1. 0. 0. 0. 0. 0.]\n"
          ],
          "name": "stdout"
        }
      ]
    },
    {
      "cell_type": "markdown",
      "metadata": {
        "id": "Y9RXW7uqaTo5"
      },
      "source": [
        "# 6.Create a vector with values ranging from 10 to 49\n"
      ]
    },
    {
      "cell_type": "code",
      "metadata": {
        "colab": {
          "base_uri": "https://localhost:8080/"
        },
        "id": "8bfRJWCjaOop",
        "outputId": "0fddf1d4-5a95-4b4f-b923-97c12eb42880"
      },
      "source": [
        "import numpy as np\n",
        "x = np.arange(10,49)\n",
        "print(x)\n",
        "print(\"All the values except first and last vector :\")\n",
        "(x[1:-1])"
      ],
      "execution_count": null,
      "outputs": [
        {
          "output_type": "stream",
          "text": [
            "[10 11 12 13 14 15 16 17 18 19 20 21 22 23 24 25 26 27 28 29 30 31 32 33\n",
            " 34 35 36 37 38 39 40 41 42 43 44 45 46 47 48]\n",
            "All the values except first and last vector :\n"
          ],
          "name": "stdout"
        },
        {
          "output_type": "execute_result",
          "data": {
            "text/plain": [
              "array([11, 12, 13, 14, 15, 16, 17, 18, 19, 20, 21, 22, 23, 24, 25, 26, 27,\n",
              "       28, 29, 30, 31, 32, 33, 34, 35, 36, 37, 38, 39, 40, 41, 42, 43, 44,\n",
              "       45, 46, 47])"
            ]
          },
          "metadata": {
            "tags": []
          },
          "execution_count": 21
        }
      ]
    },
    {
      "cell_type": "markdown",
      "metadata": {
        "id": "xo2sKnghbtTQ"
      },
      "source": [
        "#7. Reverse a vector (first element becomes last)\n"
      ]
    },
    {
      "cell_type": "code",
      "metadata": {
        "colab": {
          "base_uri": "https://localhost:8080/"
        },
        "id": "D27LSvxpa81E",
        "outputId": "ccd73646-f4de-42cd-f184-f746ec233951"
      },
      "source": [
        "import numpy as np\n",
        "x=np.arange(5,20)\n",
        "print(\"orginal array: \")\n",
        "print(x)\n",
        "print(\"Reverse array: \")\n",
        "x=x[::-1]\n",
        "print(x)"
      ],
      "execution_count": null,
      "outputs": [
        {
          "output_type": "stream",
          "text": [
            "orginal array: \n",
            "[ 5  6  7  8  9 10 11 12 13 14 15 16 17 18 19]\n",
            "Reverse array: \n",
            "[19 18 17 16 15 14 13 12 11 10  9  8  7  6  5]\n"
          ],
          "name": "stdout"
        }
      ]
    },
    {
      "cell_type": "markdown",
      "metadata": {
        "id": "8BJBEHx3cTod"
      },
      "source": [
        "# 8.Create a 3x3 matrix with values ranging from 0 to 8\n"
      ]
    },
    {
      "cell_type": "code",
      "metadata": {
        "colab": {
          "base_uri": "https://localhost:8080/"
        },
        "id": "0SZrfT_lcQHx",
        "outputId": "dad06c6a-3683-45f4-f649-809300cc670f"
      },
      "source": [
        "import numpy as np\n",
        "x=np.arange(0,8) \n",
        "print(\"original array\")\n",
        "print(x)\n",
        "print(np.indices((3,3)))# 3 rows 3 columns"
      ],
      "execution_count": null,
      "outputs": [
        {
          "output_type": "stream",
          "text": [
            "original array\n",
            "[0 1 2 3 4 5 6 7]\n",
            "[[[0 0 0]\n",
            "  [1 1 1]\n",
            "  [2 2 2]]\n",
            "\n",
            " [[0 1 2]\n",
            "  [0 1 2]\n",
            "  [0 1 2]]]\n"
          ],
          "name": "stdout"
        }
      ]
    },
    {
      "cell_type": "markdown",
      "metadata": {
        "id": "Z0s_qoimeSVa"
      },
      "source": [
        "# 9.Find indices of non-zero elements from [1,2,0,0,4,0]\n"
      ]
    },
    {
      "cell_type": "code",
      "metadata": {
        "colab": {
          "base_uri": "https://localhost:8080/"
        },
        "id": "eZhyT0Lwcnxw",
        "outputId": "54347480-91fe-436e-f905-5eb00ad42ac4"
      },
      "source": [
        "x=[1,2,0,0,4,0]\n",
        "print(x)\n",
        "print(np.nonzero(x))"
      ],
      "execution_count": null,
      "outputs": [
        {
          "output_type": "stream",
          "text": [
            "[1, 2, 0, 0, 4, 0]\n",
            "(array([0, 1, 4]),)\n"
          ],
          "name": "stdout"
        }
      ]
    },
    {
      "cell_type": "markdown",
      "metadata": {
        "id": "ZsW4oABQfI89"
      },
      "source": [
        "#10. Create a 3x3 identity matrix\n"
      ]
    },
    {
      "cell_type": "code",
      "metadata": {
        "colab": {
          "base_uri": "https://localhost:8080/"
        },
        "id": "MOwMrheIelGt",
        "outputId": "7f67def6-139e-4c27-afbb-6f7de4c14bcd"
      },
      "source": [
        "array_2D=np.identity(3)\n",
        "print(\"3*3 matrix: \")\n",
        "print(array_2D)"
      ],
      "execution_count": null,
      "outputs": [
        {
          "output_type": "stream",
          "text": [
            "3*3 matrix: \n",
            "[[1. 0. 0.]\n",
            " [0. 1. 0.]\n",
            " [0. 0. 1.]]\n"
          ],
          "name": "stdout"
        }
      ]
    },
    {
      "cell_type": "markdown",
      "metadata": {
        "id": "nfZDCfNtgv34"
      },
      "source": [
        "# 11. Create a 3x3x3 array with random values\n"
      ]
    },
    {
      "cell_type": "code",
      "metadata": {
        "colab": {
          "base_uri": "https://localhost:8080/"
        },
        "id": "ti4FCGR3gpaC",
        "outputId": "cc712982-9f55-41fd-b622-5e76102fd998"
      },
      "source": [
        "x= np.random.random((3,3,3))\n",
        "print(x)"
      ],
      "execution_count": null,
      "outputs": [
        {
          "output_type": "stream",
          "text": [
            "[[[0.08140456 0.54401629 0.69251135]\n",
            "  [0.59362686 0.44129548 0.53546663]\n",
            "  [0.83287838 0.93334019 0.01647548]]\n",
            "\n",
            " [[0.2526659  0.26369411 0.73569904]\n",
            "  [0.7193199  0.69040208 0.05637042]\n",
            "  [0.71638058 0.18976356 0.52663779]]\n",
            "\n",
            " [[0.88984691 0.37066023 0.69805697]\n",
            "  [0.68828818 0.4225706  0.35312268]\n",
            "  [0.38910003 0.60481116 0.743076  ]]]\n"
          ],
          "name": "stdout"
        }
      ]
    },
    {
      "cell_type": "markdown",
      "metadata": {
        "id": "B9OsIdO5hUlX"
      },
      "source": [
        "# 12.Create a 10x10 array with random values and find the minimum and maximum values\n"
      ]
    },
    {
      "cell_type": "code",
      "metadata": {
        "colab": {
          "base_uri": "https://localhost:8080/"
        },
        "id": "HJKUZ6gHhOfe",
        "outputId": "d3a3a400-fba2-4d54-90cb-b7d98adbfd72"
      },
      "source": [
        "x=np.random.random((10,10))\n",
        "print(\"original array :\")\n",
        "print(x)\n",
        "xmin , xmax =x.min(),x.max()\n",
        "print(\" minimum and maximum :\")\n",
        "print(xmin , xmax)\n",
        "\n"
      ],
      "execution_count": null,
      "outputs": [
        {
          "output_type": "stream",
          "text": [
            "original array :\n",
            "[[0.55790082 0.35829239 0.81853685 0.46472098 0.64493518 0.32244194\n",
            "  0.47631771 0.91534616 0.92507056 0.44643618]\n",
            " [0.53544138 0.06202009 0.43432126 0.83082583 0.09917885 0.72538558\n",
            "  0.92994407 0.87334613 0.51746066 0.7498922 ]\n",
            " [0.7363508  0.53767955 0.08814397 0.60076346 0.42457579 0.60155683\n",
            "  0.64414767 0.31655746 0.78284187 0.9614343 ]\n",
            " [0.89689678 0.45035834 0.88641897 0.97102701 0.10848963 0.88525075\n",
            "  0.37639555 0.62274584 0.89430303 0.54499914]\n",
            " [0.03705625 0.8911453  0.69204416 0.477496   0.35241919 0.64857284\n",
            "  0.14237665 0.232149   0.4464831  0.4844256 ]\n",
            " [0.43145713 0.7927086  0.83137798 0.95896922 0.6469213  0.33141933\n",
            "  0.81809618 0.55956732 0.472218   0.75053425]\n",
            " [0.00587482 0.35159386 0.44487326 0.50435835 0.61351757 0.51649532\n",
            "  0.10838635 0.15002209 0.5092313  0.36919708]\n",
            " [0.66267409 0.18277937 0.97603148 0.96071296 0.33428765 0.37638987\n",
            "  0.49997628 0.75831557 0.54639176 0.70272081]\n",
            " [0.86638736 0.1424572  0.12693021 0.4788505  0.04649134 0.85368998\n",
            "  0.73688926 0.95116041 0.86040725 0.20003903]\n",
            " [0.17687652 0.24760597 0.16694141 0.37302339 0.67956343 0.72764551\n",
            "  0.73957336 0.49649837 0.7501762  0.32669843]]\n",
            " minimum and maximum :\n",
            "0.00587482241449766 0.9760314845225894\n"
          ],
          "name": "stdout"
        }
      ]
    },
    {
      "cell_type": "markdown",
      "metadata": {
        "id": "G7S9Y7RfkDP5"
      },
      "source": [
        "#13. Create a random vector of size 30 and find the mean value\n"
      ]
    },
    {
      "cell_type": "code",
      "metadata": {
        "colab": {
          "base_uri": "https://localhost:8080/"
        },
        "id": "Lcoeg8TshgB8",
        "outputId": "32a8f99c-0551-48dd-eaa0-313d74132e25"
      },
      "source": [
        "x=np.random.random(10)\n",
        "m=x.mean()\n",
        "print(m)\n"
      ],
      "execution_count": null,
      "outputs": [
        {
          "output_type": "stream",
          "text": [
            "0.4308320385120944\n"
          ],
          "name": "stdout"
        }
      ]
    },
    {
      "cell_type": "markdown",
      "metadata": {
        "id": "Lw5hNUYBkq0F"
      },
      "source": [
        "#14.Create a 2d array with 1 on the border and 0 inside.\n"
      ]
    },
    {
      "cell_type": "code",
      "metadata": {
        "colab": {
          "base_uri": "https://localhost:8080/"
        },
        "id": "n1zmYO62kiSb",
        "outputId": "0883e58a-8d31-4d5c-9ef6-5a5cb4684c2d"
      },
      "source": [
        "x=np.ones((5,5))\n",
        "x[1:-1,1:-1]=0\n",
        "print(x)"
      ],
      "execution_count": null,
      "outputs": [
        {
          "output_type": "stream",
          "text": [
            "[[1. 1. 1. 1. 1.]\n",
            " [1. 0. 0. 0. 1.]\n",
            " [1. 0. 0. 0. 1.]\n",
            " [1. 0. 0. 0. 1.]\n",
            " [1. 1. 1. 1. 1.]]\n"
          ],
          "name": "stdout"
        }
      ]
    },
    {
      "cell_type": "markdown",
      "metadata": {
        "id": "LQ8TnvHFla6V"
      },
      "source": [
        "#15.How to add a border (filled with 0's) around an existing array? \n"
      ]
    },
    {
      "cell_type": "code",
      "metadata": {
        "colab": {
          "base_uri": "https://localhost:8080/"
        },
        "id": "lwzNiggLlEjV",
        "outputId": "b18575e4-4b27-4c6c-97f1-1e8fa605df64"
      },
      "source": [
        "x=np.ones((5,5))\n",
        "print(x)\n",
        "print(\" o's on the border :\")\n",
        "x=np.pad(x, pad_width=1 , mode='constant',constant_values=0)\n",
        "print(x)"
      ],
      "execution_count": null,
      "outputs": [
        {
          "output_type": "stream",
          "text": [
            "[[1. 1. 1. 1. 1.]\n",
            " [1. 1. 1. 1. 1.]\n",
            " [1. 1. 1. 1. 1.]\n",
            " [1. 1. 1. 1. 1.]\n",
            " [1. 1. 1. 1. 1.]]\n",
            " o's on the border :\n",
            "[[0. 0. 0. 0. 0. 0. 0.]\n",
            " [0. 1. 1. 1. 1. 1. 0.]\n",
            " [0. 1. 1. 1. 1. 1. 0.]\n",
            " [0. 1. 1. 1. 1. 1. 0.]\n",
            " [0. 1. 1. 1. 1. 1. 0.]\n",
            " [0. 1. 1. 1. 1. 1. 0.]\n",
            " [0. 0. 0. 0. 0. 0. 0.]]\n"
          ],
          "name": "stdout"
        }
      ]
    },
    {
      "cell_type": "code",
      "metadata": {
        "id": "TzHPaSLzmG1y"
      },
      "source": [
        ""
      ],
      "execution_count": null,
      "outputs": []
    },
    {
      "cell_type": "markdown",
      "metadata": {
        "id": "WypxPOssmrQr"
      },
      "source": [
        "#16.How to Accessing/Changing specific elements, rows, columns, etc in Numpy array?\n",
        "#Example -\n",
        "#[[ 1 2 3 4 5 6 7] [ 8 9 10 11 12 13 14]]\n",
        "\n",
        "#Get 13, get first row only, get 3rd column only, get [2, 4, 6], replace 13 by 20\n",
        "\n",
        "\n",
        "\n"
      ]
    },
    {
      "cell_type": "code",
      "metadata": {
        "colab": {
          "base_uri": "https://localhost:8080/"
        },
        "id": "1Y0XYfDRmxV8",
        "outputId": "e465aaf0-df0f-4977-84d5-2b1b22513649"
      },
      "source": [
        "x=np.array([[ 1 ,2 ,3, 4, 5, 6, 7],[ 8, 9, 10, 11, 12, 13, 14]])\n",
        "print(\"get 13 :\",x[1,5])\n",
        "print(\"get first row:\",x[0])\n",
        "print(\"get 3rd column:\",x[:2])\n",
        "print(\"get[2,4,6]=\",[x[0,1],x[0,3],x[0,5]])\n",
        "x[1,5]= 20\n",
        "print(\"Replaced 13 by 20 \",x)"
      ],
      "execution_count": null,
      "outputs": [
        {
          "output_type": "stream",
          "text": [
            "get 13 : 13\n",
            "get first row: [1 2 3 4 5 6 7]\n",
            "get 3rd column: [[ 1  2  3  4  5  6  7]\n",
            " [ 8  9 10 11 12 13 14]]\n",
            "get[2,4,6]= [2, 4, 6]\n",
            "Replaced 13 by 20  [[ 1  2  3  4  5  6  7]\n",
            " [ 8  9 10 11 12 20 14]]\n"
          ],
          "name": "stdout"
        }
      ]
    },
    {
      "cell_type": "markdown",
      "metadata": {
        "id": "Gezr2s3prP45"
      },
      "source": [
        "#17.How to Convert a 1D array to a 2D array with 2 rows.\n",
        "\n"
      ]
    },
    {
      "cell_type": "code",
      "metadata": {
        "colab": {
          "base_uri": "https://localhost:8080/"
        },
        "id": "0kMWR6fsqk0g",
        "outputId": "eb162eca-6ad7-440c-9bc9-6e43b988ee29"
      },
      "source": [
        "x=np.arange(9)\n",
        "print(x)\n",
        "x= np.reshape(x,(3,3))\n",
        "print(x)"
      ],
      "execution_count": null,
      "outputs": [
        {
          "output_type": "stream",
          "text": [
            "[0 1 2 3 4 5 6 7 8]\n",
            "[[0 1 2]\n",
            " [3 4 5]\n",
            " [6 7 8]]\n"
          ],
          "name": "stdout"
        }
      ]
    },
    {
      "cell_type": "markdown",
      "metadata": {
        "id": "99uUAzPRsG8-"
      },
      "source": [
        "#18.Create the following pattern without hardcoding. Use only numpy functions and the below input array a.\n",
        "\n",
        "#input: a = np.array([1,2,3])`\n",
        "# Desired output: #array([1, 1, 1, 2, 2, 2, 3, 3, 3, 1, 2, 3, 1, 2, 3, 1, 2, 3])\n"
      ]
    },
    {
      "cell_type": "code",
      "metadata": {
        "colab": {
          "base_uri": "https://localhost:8080/"
        },
        "id": "XvSHH_ACrmUO",
        "outputId": "f5e0de97-be33-446b-dbf0-bf52cd8c1562"
      },
      "source": [
        "x=np.array([1,2,3])\n",
        "np.r_[np.repeat(x,3),np.tile(x,3)]"
      ],
      "execution_count": null,
      "outputs": [
        {
          "output_type": "execute_result",
          "data": {
            "text/plain": [
              "array([1, 1, 1, 2, 2, 2, 3, 3, 3, 1, 2, 3, 1, 2, 3, 1, 2, 3])"
            ]
          },
          "metadata": {
            "tags": []
          },
          "execution_count": 71
        }
      ]
    },
    {
      "cell_type": "markdown",
      "metadata": {
        "id": "wezvIlgas4mF"
      },
      "source": [
        "# 19. Write a program to show how Numpy taking less memory compared to Python List?\n",
        "\n"
      ]
    },
    {
      "cell_type": "code",
      "metadata": {
        "colab": {
          "base_uri": "https://localhost:8080/"
        },
        "id": "TGWrlhQis1Ef",
        "outputId": "a5ce9dd7-30dc-4a66-aa01-560b6f5d33f4"
      },
      "source": [
        "import numpy as np\n",
        "l=range(1000)\n",
        "import sys\n",
        "a=10\n",
        "print(\"numpy_memory:\",sys.getsizeof(a))         \n",
        "print(\"list_memory:\", sys.getsizeof(a)*len(l))  "
      ],
      "execution_count": null,
      "outputs": [
        {
          "output_type": "stream",
          "text": [
            "numpy_memory: 28\n",
            "list_memory: 28000\n"
          ],
          "name": "stdout"
        }
      ]
    },
    {
      "cell_type": "markdown",
      "metadata": {
        "id": "Mh5B0H4Iuqet"
      },
      "source": [
        "#20.Write a program to show how Numpy taking less time compared to Python List?\n",
        "\n"
      ]
    },
    {
      "cell_type": "code",
      "metadata": {
        "colab": {
          "base_uri": "https://localhost:8080/"
        },
        "id": "w_XHe_0kuDuo",
        "outputId": "8f1845fd-0f2d-4fc8-fc6a-5c3d70ba5b2b"
      },
      "source": [
        "import numpy\n",
        "import time\n",
        "size = 1000000  # size of arrays and lists\n",
        "l1 = range(size)# declaring lists\n",
        "l2 = range(size)\n",
        " \n",
        "array_1 = numpy.arange(size) # declaring arrays\n",
        "array_2 = numpy.arange(size)\n",
        "S_Time = time.time()\n",
        "r = [(a * b) for a, b in zip(l1, l2)] \n",
        "print(\"Time taken by Lists :\",(time.time() - initialTime),\"seconds\")\n",
        "initialTime = time.time()\n",
        "r = array_1 *  array_2\n",
        "print(\"Time taken by NumPy Arrays :\",(time.time() - initialTime),\"seconds\")"
      ],
      "execution_count": null,
      "outputs": [
        {
          "output_type": "stream",
          "text": [
            "Time taken by Lists : 50.29423689842224 seconds\n",
            "Time taken by NumPy Arrays : 0.017818212509155273 seconds\n"
          ],
          "name": "stdout"
        }
      ]
    },
    {
      "cell_type": "code",
      "metadata": {
        "id": "VXoJaEarvtX2"
      },
      "source": [
        ""
      ],
      "execution_count": null,
      "outputs": []
    }
  ]
}